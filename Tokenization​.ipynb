{
 "cells": [
  {
   "metadata": {
    "ExecuteTime": {
     "end_time": "2025-09-10T02:48:10.518014Z",
     "start_time": "2025-09-10T02:48:10.485524Z"
    }
   },
   "cell_type": "markdown",
   "source": "## 词嵌入与文本分词",
   "id": "8510bfc81a1f9c50"
  },
  {
   "metadata": {
    "collapsed": true,
    "ExecuteTime": {
     "end_time": "2025-09-10T02:14:35.775397Z",
     "start_time": "2025-09-10T02:14:31.205704Z"
    }
   },
   "cell_type": "code",
   "outputs": [
    {
     "name": "stdout",
     "output_type": "stream",
     "text": [
      "Total number of characters: 20479\n",
      "I HAD always thought Jack Gisburn rather a cheap genius--though a good fellow enough--so it was no \n"
     ]
    }
   ],
   "execution_count": 3,
   "source": [
    "# 加载数据\n",
    "import requests # 向网站（服务器）发送 HTTP 请求并获取返回的数据\n",
    "from jinja2.tests import test_integer\n",
    "\n",
    "url = \"https://raw.githubusercontent.com/rasbt/LLMs-from-scratch/main/ch02/01_main-chapter-code/the-verdict.txt\"\n",
    "\n",
    "response = requests.get(url)\n",
    "raw_text = response.text\n",
    "\n",
    "print(\"Total number of characters:\", len(raw_text))\n",
    "print(raw_text[:99])"
   ],
   "id": "ecf26d1b8617ab20"
  },
  {
   "metadata": {
    "ExecuteTime": {
     "end_time": "2025-09-10T02:17:39.391367Z",
     "start_time": "2025-09-10T02:17:39.386852Z"
    }
   },
   "cell_type": "code",
   "source": [
    "# 分割文本\n",
    "import re\n",
    "text = \"Hello, world. This, is a test.\"\n",
    "result = re.split(r'(\\s)', text)\n",
    "print(result)"
   ],
   "id": "344a194c473e6fbf",
   "outputs": [
    {
     "name": "stdout",
     "output_type": "stream",
     "text": [
      "['Hello,', ' ', 'world.', ' ', 'This,', ' ', 'is', ' ', 'a', ' ', 'test.']\n"
     ]
    }
   ],
   "execution_count": 6
  },
  {
   "metadata": {
    "ExecuteTime": {
     "end_time": "2025-09-10T02:17:40.233371Z",
     "start_time": "2025-09-10T02:17:40.229459Z"
    }
   },
   "cell_type": "code",
   "source": [
    "result = re.split(r'([,.]|\\s)', text) # 不同正则式分割的方式不同\n",
    "print(result)"
   ],
   "id": "327309db016701c4",
   "outputs": [
    {
     "name": "stdout",
     "output_type": "stream",
     "text": [
      "['Hello', ',', '', ' ', 'world', '.', '', ' ', 'This', ',', '', ' ', 'is', ' ', 'a', ' ', 'test', '.', '']\n"
     ]
    }
   ],
   "execution_count": 7
  },
  {
   "metadata": {
    "ExecuteTime": {
     "end_time": "2025-09-10T02:18:35.744735Z",
     "start_time": "2025-09-10T02:18:35.740063Z"
    }
   },
   "cell_type": "code",
   "source": [
    "# 去除空白等多余字符\n",
    "result = [item.strip() for item in result if item.strip()] # 先去掉空白字符,然后检查处理后的字符串是否为空\n",
    "print(result)"
   ],
   "id": "c4c7dcd21b48789b",
   "outputs": [
    {
     "name": "stdout",
     "output_type": "stream",
     "text": [
      "['Hello', ',', 'world', '.', 'This', ',', 'is', 'a', 'test', '.']\n"
     ]
    }
   ],
   "execution_count": 8
  },
  {
   "metadata": {
    "ExecuteTime": {
     "end_time": "2025-09-10T02:22:32.788949Z",
     "start_time": "2025-09-10T02:22:32.783591Z"
    }
   },
   "cell_type": "code",
   "source": [
    "text = \"Hello, world. Is this-- a test?\"\n",
    "result = re.split(r'([,.?_!\"()\\']|--|\\s)', text)\n",
    "result = [item.strip() for item in result if item.strip()]\n",
    "print(result)"
   ],
   "id": "87a1c5f911962077",
   "outputs": [
    {
     "name": "stdout",
     "output_type": "stream",
     "text": [
      "['Hello', ',', 'world', '.', 'Is', 'this', '--', 'a', 'test', '?']\n"
     ]
    }
   ],
   "execution_count": 9
  },
  {
   "metadata": {
    "ExecuteTime": {
     "end_time": "2025-09-10T02:24:10.629671Z",
     "start_time": "2025-09-10T02:24:10.623110Z"
    }
   },
   "cell_type": "code",
   "source": [
    "# 应用到整个文章\n",
    "preprocessed = re.split(r'([,.?_!\"()\\']|--|\\s)', raw_text)\n",
    "preprocessed = [item.strip() for item in preprocessed if\n",
    "item.strip()]\n",
    "print(len(preprocessed)) # 返回该文章的token数量"
   ],
   "id": "a9520aa0fe21947",
   "outputs": [
    {
     "name": "stdout",
     "output_type": "stream",
     "text": [
      "4649\n"
     ]
    }
   ],
   "execution_count": 11
  },
  {
   "metadata": {
    "ExecuteTime": {
     "end_time": "2025-09-10T02:24:26.998654Z",
     "start_time": "2025-09-10T02:24:26.995026Z"
    }
   },
   "cell_type": "code",
   "source": "print(preprocessed[:30])",
   "id": "7a006dd12a2752aa",
   "outputs": [
    {
     "name": "stdout",
     "output_type": "stream",
     "text": [
      "['I', 'HAD', 'always', 'thought', 'Jack', 'Gisburn', 'rather', 'a', 'cheap', 'genius', '--', 'though', 'a', 'good', 'fellow', 'enough', '--', 'so', 'it', 'was', 'no', 'great', 'surprise', 'to', 'me', 'to', 'hear', 'that', ',', 'in']\n"
     ]
    }
   ],
   "execution_count": 14
  },
  {
   "metadata": {},
   "cell_type": "markdown",
   "source": "## 文本Token化与TokenID",
   "id": "259b7583386d8571"
  },
  {
   "metadata": {
    "ExecuteTime": {
     "end_time": "2025-09-10T02:47:01.067474Z",
     "start_time": "2025-09-10T02:46:59.303849Z"
    }
   },
   "cell_type": "code",
   "source": [
    "import re\n",
    "import requests\n",
    "\n",
    "url = \"https://raw.githubusercontent.com/rasbt/LLMs-from-scratch/main/ch02/01_main-chapter-code/the-verdict.txt\"\n",
    "response = requests.get(url)\n",
    "raw_text = response.text\n",
    "preprocessed = re.split(r'([,.?_!\"()\\']|--|\\s)', raw_text)\n",
    "preprocessed = [item.strip() for item in preprocessed if item.strip()]\n",
    "\n",
    "all_words = sorted(list(set(preprocessed))) # 将单词按顺序排序,去重\n",
    "vocab_size = len(all_words)\n",
    "print(vocab_size)"
   ],
   "id": "bfa44c0a24f09944",
   "outputs": [
    {
     "name": "stdout",
     "output_type": "stream",
     "text": [
      "1159\n"
     ]
    }
   ],
   "execution_count": 15
  },
  {
   "metadata": {
    "ExecuteTime": {
     "end_time": "2025-09-10T02:47:09.292945Z",
     "start_time": "2025-09-10T02:47:09.286937Z"
    }
   },
   "cell_type": "code",
   "source": [
    "vocab = {token:integer for integer, token in enumerate(all_words)} # 创建词汇表\n",
    "for i, item in enumerate(vocab.items()):\n",
    "    print(item)\n",
    "    if i > 50:\n",
    "        break"
   ],
   "id": "31d358df3d2ee6e8",
   "outputs": [
    {
     "name": "stdout",
     "output_type": "stream",
     "text": [
      "('!', 0)\n",
      "('\"', 1)\n",
      "(\"'\", 2)\n",
      "('(', 3)\n",
      "(')', 4)\n",
      "(',', 5)\n",
      "('--', 6)\n",
      "('.', 7)\n",
      "(':', 8)\n",
      "(';', 9)\n",
      "('?', 10)\n",
      "('A', 11)\n",
      "('Ah', 12)\n",
      "('Among', 13)\n",
      "('And', 14)\n",
      "('Are', 15)\n",
      "('Arrt', 16)\n",
      "('As', 17)\n",
      "('At', 18)\n",
      "('Be', 19)\n",
      "('Begin', 20)\n",
      "('Burlington', 21)\n",
      "('But', 22)\n",
      "('By', 23)\n",
      "('Carlo', 24)\n",
      "('Carlo;', 25)\n",
      "('Chicago', 26)\n",
      "('Claude', 27)\n",
      "('Come', 28)\n",
      "('Croft', 29)\n",
      "('Destroyed', 30)\n",
      "('Devonshire', 31)\n",
      "('Don', 32)\n",
      "('Dubarry', 33)\n",
      "('Emperors', 34)\n",
      "('Florence', 35)\n",
      "('For', 36)\n",
      "('Gallery', 37)\n",
      "('Gideon', 38)\n",
      "('Gisburn', 39)\n",
      "('Gisburns', 40)\n",
      "('Grafton', 41)\n",
      "('Greek', 42)\n",
      "('Grindle', 43)\n",
      "('Grindle:', 44)\n",
      "('Grindles', 45)\n",
      "('HAD', 46)\n",
      "('Had', 47)\n",
      "('Hang', 48)\n",
      "('Has', 49)\n",
      "('He', 50)\n",
      "('Her', 51)\n"
     ]
    }
   ],
   "execution_count": 16
  },
  {
   "metadata": {
    "ExecuteTime": {
     "end_time": "2025-09-10T02:47:21.181071Z",
     "start_time": "2025-09-10T02:47:21.174423Z"
    }
   },
   "cell_type": "code",
   "source": [
    "# 简单分词器\n",
    "class SimpleTokenizerV1:\n",
    "    def __init__(self, vocab):\n",
    "        self.str_to_int = vocab\n",
    "        self.int_to_str = {i:s for s, i in vocab.items()}\n",
    "\n",
    "    def encode(self, text):\n",
    "        preprocessed = re.split(r'([,.?_!\"()\\']|--|\\s)', text)\n",
    "        preprocessed = [item.strip() for item in preprocessed if item.strip()]\n",
    "        ids = [self.str_to_int[s] for s in preprocessed]\n",
    "        return ids\n",
    "\n",
    "    def decode(self, ids):\n",
    "        text = \" \".join([self.int_to_str[i] for i in ids])\n",
    "        text = re.sub(r'\\s+([,.?!\"()\\'])', r'\\1', text)\n",
    "        return text"
   ],
   "id": "4d895629c6360503",
   "outputs": [],
   "execution_count": 17
  },
  {
   "metadata": {
    "ExecuteTime": {
     "end_time": "2025-09-10T02:47:26.581905Z",
     "start_time": "2025-09-10T02:47:26.577303Z"
    }
   },
   "cell_type": "code",
   "source": [
    "# 打印出文本的token ID\n",
    "tokenizer = SimpleTokenizerV1(vocab)\n",
    "text = \"\"\"\"It's the last he painted, you know,\" Mrs. Gisburn\n",
    "said with pardonable pride.\"\"\"\n",
    "ids = tokenizer.encode(text)\n",
    "print(ids)"
   ],
   "id": "538a440699dcaf67",
   "outputs": [
    {
     "name": "stdout",
     "output_type": "stream",
     "text": [
      "[1, 58, 2, 872, 1013, 615, 541, 763, 5, 1155, 608, 5, 1, 69, 7, 39, 873, 1136, 773, 812, 7]\n"
     ]
    }
   ],
   "execution_count": 18
  },
  {
   "metadata": {
    "ExecuteTime": {
     "end_time": "2025-09-10T02:47:31.247123Z",
     "start_time": "2025-09-10T02:47:31.238273Z"
    }
   },
   "cell_type": "code",
   "source": "tokenizer.decode(ids) # token转换回文本",
   "id": "738e438a1e3316cd",
   "outputs": [
    {
     "data": {
      "text/plain": [
       "'\" It\\' s the last he painted, you know,\" Mrs. Gisburn said with pardonable pride.'"
      ]
     },
     "execution_count": 19,
     "metadata": {},
     "output_type": "execute_result"
    }
   ],
   "execution_count": 19
  },
  {
   "metadata": {
    "ExecuteTime": {
     "end_time": "2025-09-10T02:47:37.572977Z",
     "start_time": "2025-09-10T02:47:37.383784Z"
    }
   },
   "cell_type": "code",
   "source": [
    "# 未出现在数据中的单词,不在词汇表中,就会报错\n",
    "text = \"Hello, do you like tea?\"\n",
    "tokenizer.encode(text)"
   ],
   "id": "dbdfd63f48058095",
   "outputs": [
    {
     "ename": "KeyError",
     "evalue": "'Hello'",
     "output_type": "error",
     "traceback": [
      "\u001B[31m---------------------------------------------------------------------------\u001B[39m",
      "\u001B[31mKeyError\u001B[39m                                  Traceback (most recent call last)",
      "\u001B[36mCell\u001B[39m\u001B[36m \u001B[39m\u001B[32mIn[20]\u001B[39m\u001B[32m, line 3\u001B[39m\n\u001B[32m      1\u001B[39m \u001B[38;5;66;03m# 未出现在数据中的单词,不在词汇表中,就会报错\u001B[39;00m\n\u001B[32m      2\u001B[39m text = \u001B[33m\"\u001B[39m\u001B[33mHello, do you like tea?\u001B[39m\u001B[33m\"\u001B[39m\n\u001B[32m----> \u001B[39m\u001B[32m3\u001B[39m \u001B[43mtokenizer\u001B[49m\u001B[43m.\u001B[49m\u001B[43mencode\u001B[49m\u001B[43m(\u001B[49m\u001B[43mtext\u001B[49m\u001B[43m)\u001B[49m\n",
      "\u001B[36mCell\u001B[39m\u001B[36m \u001B[39m\u001B[32mIn[17]\u001B[39m\u001B[32m, line 10\u001B[39m, in \u001B[36mSimpleTokenizerV1.encode\u001B[39m\u001B[34m(self, text)\u001B[39m\n\u001B[32m      8\u001B[39m preprocessed = re.split(\u001B[33mr\u001B[39m\u001B[33m'\u001B[39m\u001B[33m([,.?_!\u001B[39m\u001B[33m\"\u001B[39m\u001B[33m()\u001B[39m\u001B[38;5;130;01m\\'\u001B[39;00m\u001B[33m]|--|\u001B[39m\u001B[33m\\\u001B[39m\u001B[33ms)\u001B[39m\u001B[33m'\u001B[39m, text)\n\u001B[32m      9\u001B[39m preprocessed = [item.strip() \u001B[38;5;28;01mfor\u001B[39;00m item \u001B[38;5;129;01min\u001B[39;00m preprocessed \u001B[38;5;28;01mif\u001B[39;00m item.strip()]\n\u001B[32m---> \u001B[39m\u001B[32m10\u001B[39m ids = [\u001B[38;5;28;43mself\u001B[39;49m\u001B[43m.\u001B[49m\u001B[43mstr_to_int\u001B[49m\u001B[43m[\u001B[49m\u001B[43ms\u001B[49m\u001B[43m]\u001B[49m \u001B[38;5;28;01mfor\u001B[39;00m s \u001B[38;5;129;01min\u001B[39;00m preprocessed]\n\u001B[32m     11\u001B[39m \u001B[38;5;28;01mreturn\u001B[39;00m ids\n",
      "\u001B[31mKeyError\u001B[39m: 'Hello'"
     ]
    }
   ],
   "execution_count": 20
  },
  {
   "metadata": {},
   "cell_type": "markdown",
   "source": "## 特殊上下文的Token化",
   "id": "7260df9a52954648"
  },
  {
   "metadata": {
    "ExecuteTime": {
     "end_time": "2025-09-10T02:50:59.820111Z",
     "start_time": "2025-09-10T02:50:59.815369Z"
    }
   },
   "cell_type": "code",
   "source": [
    "all_tokens = sorted(list(set(preprocessed)))\n",
    "all_tokens.extend([\"<|endoftext|>\", \"<|unk|>\"])\n",
    "vocab = {token:integer for integer,token in enumerate(all_tokens)}\n",
    "print(len(vocab.items()))"
   ],
   "id": "74f020ba46b08df9",
   "outputs": [
    {
     "name": "stdout",
     "output_type": "stream",
     "text": [
      "1161\n"
     ]
    }
   ],
   "execution_count": 23
  },
  {
   "metadata": {
    "ExecuteTime": {
     "end_time": "2025-09-10T02:51:37.323936Z",
     "start_time": "2025-09-10T02:51:37.318725Z"
    }
   },
   "cell_type": "code",
   "source": [
    "for i, item in enumerate(list(vocab.items())[-5:]):\n",
    "    print(item)"
   ],
   "id": "2ab1361d5a012994",
   "outputs": [
    {
     "name": "stdout",
     "output_type": "stream",
     "text": [
      "('younger', 1156)\n",
      "('your', 1157)\n",
      "('yourself', 1158)\n",
      "('<|endoftext|>', 1159)\n",
      "('<|unk|>', 1160)\n"
     ]
    }
   ],
   "execution_count": 24
  },
  {
   "metadata": {
    "ExecuteTime": {
     "end_time": "2025-09-10T02:52:42.423123Z",
     "start_time": "2025-09-10T02:52:42.416519Z"
    }
   },
   "cell_type": "code",
   "source": [
    "# 添加处理未知单词的文本分割器\n",
    "class SimpleTokenizerV2:\n",
    "    def __init__(self, vocab):\n",
    "        self.str_to_int = vocab\n",
    "        self.int_to_str = { i:s for s,i in vocab.items()}\n",
    "    def encode(self, text):\n",
    "        preprocessed = re.split(r'([,.?_!\"()\\']|--|\\s)', text)\n",
    "        preprocessed = [item.strip() for item in preprocessed if item.strip()]\n",
    "        preprocessed = [item if item in self.str_to_int else \"<|unk|>\" for item in preprocessed] #A\n",
    "        ids = [self.str_to_int[s] for s in preprocessed]\n",
    "        return ids\n",
    "    def decode(self, ids):\n",
    "        text = \" \".join([self.int_to_str[i] for i in ids])\n",
    "        text = re.sub(r'\\s+([,.?!\"()\\'])', r'\\1', text) #B\n",
    "        return text"
   ],
   "id": "2ff8765136501cd4",
   "outputs": [],
   "execution_count": 25
  },
  {
   "metadata": {
    "ExecuteTime": {
     "end_time": "2025-09-10T02:52:48.884376Z",
     "start_time": "2025-09-10T02:52:48.880215Z"
    }
   },
   "cell_type": "code",
   "source": [
    "text1 = \"Hello, do you like tea?\"\n",
    "text2 = \"In the sunlit terraces of the palace.\"\n",
    "text = \" <|endoftext|> \".join((text1, text2))\n",
    "print(text)"
   ],
   "id": "4e34de30c2f6a4a5",
   "outputs": [
    {
     "name": "stdout",
     "output_type": "stream",
     "text": [
      "Hello, do you like tea? <|endoftext|> In the sunlit terraces of the palace.\n"
     ]
    }
   ],
   "execution_count": 26
  },
  {
   "metadata": {
    "ExecuteTime": {
     "end_time": "2025-09-10T02:52:59.488865Z",
     "start_time": "2025-09-10T02:52:59.484781Z"
    }
   },
   "cell_type": "code",
   "source": [
    "tokenizer = SimpleTokenizerV2(vocab)\n",
    "print(tokenizer.encode(text))"
   ],
   "id": "1c9154924bceeb05",
   "outputs": [
    {
     "name": "stdout",
     "output_type": "stream",
     "text": [
      "[1160, 5, 362, 1155, 642, 1000, 10, 1159, 57, 1013, 981, 1009, 738, 1013, 1160, 7]\n"
     ]
    }
   ],
   "execution_count": 27
  },
  {
   "metadata": {
    "ExecuteTime": {
     "end_time": "2025-09-10T02:53:06.313372Z",
     "start_time": "2025-09-10T02:53:06.309267Z"
    }
   },
   "cell_type": "code",
   "source": "print(tokenizer.decode(tokenizer.encode(text)))",
   "id": "3b75cb4c3856bf0",
   "outputs": [
    {
     "name": "stdout",
     "output_type": "stream",
     "text": [
      "<|unk|>, do you like tea? <|endoftext|> In the sunlit terraces of the <|unk|>.\n"
     ]
    }
   ],
   "execution_count": 28
  },
  {
   "metadata": {},
   "cell_type": "markdown",
   "source": "## BPE",
   "id": "3d6ba3cc97f1d95f"
  },
  {
   "metadata": {
    "ExecuteTime": {
     "end_time": "2025-09-10T02:57:56.887911Z",
     "start_time": "2025-09-10T02:57:56.863687Z"
    }
   },
   "cell_type": "code",
   "source": [
    "from importlib.metadata import version\n",
    "import tiktoken\n",
    "print(\"tiktoken version:\", version(\"tiktoken\"))"
   ],
   "id": "d9110f6cda2897bf",
   "outputs": [
    {
     "name": "stdout",
     "output_type": "stream",
     "text": [
      "tiktoken version: 0.9.0\n"
     ]
    }
   ],
   "execution_count": 29
  },
  {
   "metadata": {
    "ExecuteTime": {
     "end_time": "2025-09-10T02:59:13.643823Z",
     "start_time": "2025-09-10T02:58:47.484680Z"
    }
   },
   "cell_type": "code",
   "source": "tokenizer = tiktoken.get_encoding(\"gpt2\")",
   "id": "7bb6dcc9aec4c7f3",
   "outputs": [],
   "execution_count": 31
  },
  {
   "metadata": {
    "ExecuteTime": {
     "end_time": "2025-09-10T02:59:18.697262Z",
     "start_time": "2025-09-10T02:59:18.691977Z"
    }
   },
   "cell_type": "code",
   "source": [
    "text = \"Hello, do you like tea? <|endoftext|> In the sunlit terraces of some\"\n",
    "integers = tokenizer.encode(text, allowed_special={\"<|endoftext|>\"})\n",
    "print(integers)"
   ],
   "id": "ad27b44fd06c7bb5",
   "outputs": [
    {
     "name": "stdout",
     "output_type": "stream",
     "text": [
      "[15496, 11, 466, 345, 588, 8887, 30, 220, 50256, 554, 262, 4252, 18250, 8812, 2114, 286, 617]\n"
     ]
    }
   ],
   "execution_count": 32
  },
  {
   "metadata": {
    "ExecuteTime": {
     "end_time": "2025-09-10T02:59:26.000996Z",
     "start_time": "2025-09-10T02:59:25.996495Z"
    }
   },
   "cell_type": "code",
   "source": [
    "strings = tokenizer.decode(integers)\n",
    "print(strings)"
   ],
   "id": "a39493f48a28630c",
   "outputs": [
    {
     "name": "stdout",
     "output_type": "stream",
     "text": [
      "Hello, do you like tea? <|endoftext|> In the sunlit terraces of some\n"
     ]
    }
   ],
   "execution_count": 33
  },
  {
   "metadata": {
    "ExecuteTime": {
     "end_time": "2025-09-10T03:02:08.191370Z",
     "start_time": "2025-09-10T03:02:08.187278Z"
    }
   },
   "cell_type": "code",
   "source": [
    "# BPE 将所有独立字幕加入到词汇库\n",
    "test = \"Akwirw ier\"\n",
    "test_integer = tokenizer.encode(test)\n",
    "print(test_integer)"
   ],
   "id": "1a4cd9895b9c4d60",
   "outputs": [
    {
     "name": "stdout",
     "output_type": "stream",
     "text": [
      "[33901, 86, 343, 86, 220, 959]\n"
     ]
    }
   ],
   "execution_count": 35
  },
  {
   "metadata": {},
   "cell_type": "markdown",
   "source": "## 使用滑动窗口进行数据采样",
   "id": "352823fb68b8e68d"
  },
  {
   "metadata": {
    "ExecuteTime": {
     "end_time": "2025-09-10T03:27:46.056155Z",
     "start_time": "2025-09-10T03:27:46.045102Z"
    }
   },
   "cell_type": "code",
   "source": [
    "import re\n",
    "import tiktoken\n",
    "\n",
    "tokenizer = tiktoken.get_encoding(\"gpt2\")\n",
    "with open(\"./tmp/llm/Data/the-verdict.txt\", \"r\", encoding=\"utf-8\") as f:\n",
    "    raw_text = f.read()\n",
    "enc_text = tokenizer.encode(raw_text)\n",
    "print(len(enc_text))"
   ],
   "id": "c6fad8911f8b351b",
   "outputs": [
    {
     "name": "stdout",
     "output_type": "stream",
     "text": [
      "5145\n"
     ]
    }
   ],
   "execution_count": 21
  },
  {
   "metadata": {
    "ExecuteTime": {
     "end_time": "2025-09-10T03:27:46.449130Z",
     "start_time": "2025-09-10T03:27:46.445507Z"
    }
   },
   "cell_type": "code",
   "source": "enc_sample = enc_text[50:] # 剔除前50个tokens",
   "id": "443a1ab134d6b2c9",
   "outputs": [],
   "execution_count": 22
  },
  {
   "metadata": {
    "ExecuteTime": {
     "end_time": "2025-09-10T03:27:46.834382Z",
     "start_time": "2025-09-10T03:27:46.829836Z"
    }
   },
   "cell_type": "code",
   "source": [
    "context_size = 4 #A\n",
    "x = enc_sample[:context_size]\n",
    "y = enc_sample[1:context_size+1]\n",
    "print(f\"x: {x}\")\n",
    "print(f\"y:      {y}\")"
   ],
   "id": "74dbd0fd02929f01",
   "outputs": [
    {
     "name": "stdout",
     "output_type": "stream",
     "text": [
      "x: [290, 4920, 2241, 287]\n",
      "y:      [4920, 2241, 287, 257]\n"
     ]
    }
   ],
   "execution_count": 23
  },
  {
   "metadata": {
    "ExecuteTime": {
     "end_time": "2025-09-10T03:27:47.256091Z",
     "start_time": "2025-09-10T03:27:47.251506Z"
    }
   },
   "cell_type": "code",
   "source": [
    "for i in range(1, context_size+1):\n",
    "    context = enc_sample[:i]\n",
    "    desired = enc_sample[i]\n",
    "    print(context, \"---->\", desired)"
   ],
   "id": "5676deae3c8ad389",
   "outputs": [
    {
     "name": "stdout",
     "output_type": "stream",
     "text": [
      "[290] ----> 4920\n",
      "[290, 4920] ----> 2241\n",
      "[290, 4920, 2241] ----> 287\n",
      "[290, 4920, 2241, 287] ----> 257\n"
     ]
    }
   ],
   "execution_count": 24
  },
  {
   "metadata": {
    "ExecuteTime": {
     "end_time": "2025-09-10T03:27:47.668890Z",
     "start_time": "2025-09-10T03:27:47.663727Z"
    }
   },
   "cell_type": "code",
   "source": [
    "for i in range(1, context_size+1):\n",
    "    context = enc_sample[:i]\n",
    "    desired = enc_sample[i]\n",
    "    print(tokenizer.decode(context), \"---->\", tokenizer.decode([desired]))"
   ],
   "id": "39981a37bbe71487",
   "outputs": [
    {
     "name": "stdout",
     "output_type": "stream",
     "text": [
      " and ---->  established\n",
      " and established ---->  himself\n",
      " and established himself ---->  in\n",
      " and established himself in ---->  a\n"
     ]
    }
   ],
   "execution_count": 25
  },
  {
   "metadata": {},
   "cell_type": "markdown",
   "source": "我们现在已经创建了一个输入目标对了,可以用于LLM训练了,但还需要一个高校的数据加载器,确保输入数据集返回输入-目标对时,这些数据都是PyTorch张量",
   "id": "36b1b47183e99e35"
  },
  {
   "metadata": {
    "ExecuteTime": {
     "end_time": "2025-09-10T03:27:48.682837Z",
     "start_time": "2025-09-10T03:27:48.679215Z"
    }
   },
   "cell_type": "code",
   "source": [
    "import torch\n",
    "from torch.utils.data import DataLoader, Dataset"
   ],
   "id": "106b4ec3e9e2757",
   "outputs": [],
   "execution_count": 26
  },
  {
   "metadata": {
    "ExecuteTime": {
     "end_time": "2025-09-10T03:27:49.470631Z",
     "start_time": "2025-09-10T03:27:49.464168Z"
    }
   },
   "cell_type": "code",
   "source": [
    "class GPTDatasetV1(Dataset):\n",
    "    def __init__(self, text, tokenizer, max_len, stride):\n",
    "        self.tokenizer = tokenizer\n",
    "        self.input_ids = []\n",
    "        self.target_ids = []\n",
    "        token_ids = tokenizer.encode(text) # 分词\n",
    "        for i in range(0, len(token_ids) - max_len, stride): #\n",
    "            input_chunk = token_ids[i:i + max_len] # 从i开始取max_len个token\n",
    "            target_chunk = token_ids[i + 1: i+ max_len + 1] # 输入对应token,想后移动一位\n",
    "\n",
    "            # 列表转换为Pytorch张量并保存\n",
    "            self.input_ids.append(torch.tensor(input_chunk))\n",
    "            self.target_ids.append(torch.tensor(target_chunk))\n",
    "\n",
    "    def __len__(self):\n",
    "        return len(self.input_ids)\n",
    "    def __getitem__(self, index):\n",
    "        return self.input_ids[index], self.target_ids[index]"
   ],
   "id": "7f529fa5527be7bf",
   "outputs": [],
   "execution_count": 27
  },
  {
   "metadata": {
    "ExecuteTime": {
     "end_time": "2025-09-10T03:28:24.816668Z",
     "start_time": "2025-09-10T03:28:24.811966Z"
    }
   },
   "cell_type": "code",
   "source": [
    "def create_dataloader_v1(text, batch_size=4, max_len=256, stride=128, shuffle=True, drop_last=True):\n",
    "    tokenizer = tiktoken.get_encoding(\"gpt2\")\n",
    "    dataset = GPTDatasetV1(text, tokenizer, max_len, stride)\n",
    "    dataloader = DataLoader(dataset, batch_size=batch_size, shuffle=shuffle, drop_last=drop_last)\n",
    "    return dataloader"
   ],
   "id": "9b481ebea8bccb5e",
   "outputs": [],
   "execution_count": 32
  },
  {
   "metadata": {
    "ExecuteTime": {
     "end_time": "2025-09-10T03:31:03.740649Z",
     "start_time": "2025-09-10T03:31:03.643881Z"
    }
   },
   "cell_type": "code",
   "source": [
    "with open(\"./tmp/llm/Data/the-verdict.txt\", \"r\", encoding=\"utf-8\") as f:\n",
    "    raw_text = f.read()\n",
    "    dataloader = create_dataloader_v1(\n",
    "        raw_text, batch_size=1, max_len=4, stride=1, shuffle=False)\n",
    "    data_iter = iter(dataloader)\n",
    "    first_batch = next(data_iter)\n",
    "    print(first_batch)"
   ],
   "id": "b86143a489f2fef1",
   "outputs": [
    {
     "name": "stdout",
     "output_type": "stream",
     "text": [
      "[tensor([[  40,  367, 2885, 1464]]), tensor([[ 367, 2885, 1464, 1807]])]\n"
     ]
    }
   ],
   "execution_count": 44
  },
  {
   "metadata": {
    "ExecuteTime": {
     "end_time": "2025-09-10T03:31:04.164492Z",
     "start_time": "2025-09-10T03:31:04.160224Z"
    }
   },
   "cell_type": "code",
   "source": [
    "second_batch = next(data_iter)\n",
    "print(second_batch)"
   ],
   "id": "911603fe2dcf3b16",
   "outputs": [
    {
     "name": "stdout",
     "output_type": "stream",
     "text": [
      "[tensor([[ 367, 2885, 1464, 1807]]), tensor([[2885, 1464, 1807, 3619]])]\n"
     ]
    }
   ],
   "execution_count": 45
  },
  {
   "metadata": {
    "ExecuteTime": {
     "end_time": "2025-09-10T03:31:04.698079Z",
     "start_time": "2025-09-10T03:31:04.693597Z"
    }
   },
   "cell_type": "code",
   "source": [
    "third_batch = next(data_iter)\n",
    "print(third_batch)"
   ],
   "id": "8cfe353841d0707f",
   "outputs": [
    {
     "name": "stdout",
     "output_type": "stream",
     "text": [
      "[tensor([[2885, 1464, 1807, 3619]]), tensor([[1464, 1807, 3619,  402]])]\n"
     ]
    }
   ],
   "execution_count": 46
  },
  {
   "metadata": {
    "ExecuteTime": {
     "end_time": "2025-09-10T03:31:49.464003Z",
     "start_time": "2025-09-10T03:31:49.416124Z"
    }
   },
   "cell_type": "code",
   "source": [
    "dataloader = create_dataloader_v1(raw_text, batch_size=8, max_len=4, stride=4)\n",
    "data_iter = iter(dataloader)\n",
    "inputs, targets = next(data_iter)\n",
    "print(\"Inputs:\\n\", inputs)\n",
    "print(\"\\nTargets:\\n\", targets)"
   ],
   "id": "44f8664151e1964",
   "outputs": [
    {
     "name": "stdout",
     "output_type": "stream",
     "text": [
      "Inputs:\n",
      " tensor([[  284,  3589,   588,   530],\n",
      "        [ 6685, 42070,   351,  4738],\n",
      "        [ 1110,    13,   198,   198],\n",
      "        [36364,  1396,   417,  4624],\n",
      "        [ 1061,   510,   428, 18437],\n",
      "        [  285, 23968,  4891,    11],\n",
      "        [  438,  3137,   257,  3465],\n",
      "        [44140,   757,  1701,   339]])\n",
      "\n",
      "Targets:\n",
      " tensor([[ 3589,   588,   530,   286],\n",
      "        [42070,   351,  4738,  6276],\n",
      "        [   13,   198,   198,    40],\n",
      "        [ 1396,   417,  4624,   523],\n",
      "        [  510,   428, 18437,   618],\n",
      "        [23968,  4891,    11,   314],\n",
      "        [ 3137,   257,  3465,  2077],\n",
      "        [  757,  1701,   339, 30050]])\n"
     ]
    }
   ],
   "execution_count": 47
  },
  {
   "metadata": {},
   "cell_type": "markdown",
   "source": "## 词符嵌入",
   "id": "653511e41190c1ea"
  },
  {
   "metadata": {
    "ExecuteTime": {
     "end_time": "2025-09-10T03:37:32.983816Z",
     "start_time": "2025-09-10T03:37:32.975715Z"
    }
   },
   "cell_type": "code",
   "source": [
    "vocab_size = 6\n",
    "output_dim = 3\n",
    "\n",
    "torch.manual_seed(123)\n",
    "embedding_layer = torch.nn.Embedding(vocab_size, output_dim)"
   ],
   "id": "e5ea862adfafcb4a",
   "outputs": [],
   "execution_count": 48
  },
  {
   "metadata": {
    "ExecuteTime": {
     "end_time": "2025-09-10T03:38:02.805686Z",
     "start_time": "2025-09-10T03:38:02.800488Z"
    }
   },
   "cell_type": "code",
   "source": "print(embedding_layer.weight) # 生成一个6x3的权重矩阵",
   "id": "b70b9d6f2f17fe1c",
   "outputs": [
    {
     "name": "stdout",
     "output_type": "stream",
     "text": [
      "Parameter containing:\n",
      "tensor([[ 0.3374, -0.1778, -0.1690],\n",
      "        [ 0.9178,  1.5810,  1.3010],\n",
      "        [ 1.2753, -0.2010, -0.1606],\n",
      "        [-0.4015,  0.9666, -1.1481],\n",
      "        [-1.1589,  0.3255, -0.6315],\n",
      "        [-2.8400, -0.7849, -1.4096]], requires_grad=True)\n"
     ]
    }
   ],
   "execution_count": 50
  },
  {
   "metadata": {
    "ExecuteTime": {
     "end_time": "2025-09-10T03:38:47.363370Z",
     "start_time": "2025-09-10T03:38:47.357848Z"
    }
   },
   "cell_type": "code",
   "source": "print(embedding_layer(torch.tensor([3]))) # ID为3的词符转换成一个3维向量",
   "id": "9bc18e526b15f820",
   "outputs": [
    {
     "name": "stdout",
     "output_type": "stream",
     "text": [
      "tensor([[-0.4015,  0.9666, -1.1481]], grad_fn=<EmbeddingBackward0>)\n"
     ]
    }
   ],
   "execution_count": 52
  },
  {
   "metadata": {
    "ExecuteTime": {
     "end_time": "2025-09-10T03:39:18.349329Z",
     "start_time": "2025-09-10T03:39:18.345428Z"
    }
   },
   "cell_type": "code",
   "source": "input_ids = torch.tensor([2, 3, 5, 1])",
   "id": "3fb4c07a93da9888",
   "outputs": [],
   "execution_count": 54
  },
  {
   "metadata": {
    "ExecuteTime": {
     "end_time": "2025-09-10T03:39:19.332600Z",
     "start_time": "2025-09-10T03:39:19.327524Z"
    }
   },
   "cell_type": "code",
   "source": "print(embedding_layer(input_ids))",
   "id": "fd1865b45636e74e",
   "outputs": [
    {
     "name": "stdout",
     "output_type": "stream",
     "text": [
      "tensor([[ 1.2753, -0.2010, -0.1606],\n",
      "        [-0.4015,  0.9666, -1.1481],\n",
      "        [-2.8400, -0.7849, -1.4096],\n",
      "        [ 0.9178,  1.5810,  1.3010]], grad_fn=<EmbeddingBackward0>)\n"
     ]
    }
   ],
   "execution_count": 55
  }
 ],
 "metadata": {
  "kernelspec": {
   "display_name": "Python 3",
   "language": "python",
   "name": "python3"
  },
  "language_info": {
   "codemirror_mode": {
    "name": "ipython",
    "version": 2
   },
   "file_extension": ".py",
   "mimetype": "text/x-python",
   "name": "python",
   "nbconvert_exporter": "python",
   "pygments_lexer": "ipython2",
   "version": "2.7.6"
  }
 },
 "nbformat": 4,
 "nbformat_minor": 5
}
